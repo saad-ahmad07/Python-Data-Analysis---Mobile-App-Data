{
 "cells": [
  {
   "cell_type": "markdown",
   "id": "f8ba7ad0-1e1e-42de-a883-304b6bae45e3",
   "metadata": {},
   "source": [
    "## Analyzing Mobile Applications Project\n",
    "\n",
    "### Objective\n",
    "\n",
    "This project aims to analyze datasets from the Apple App Store and Google Play Store to gain insights into user preferences and boost revenue from in-app advertisements.\n",
    "\n",
    "### Overview\n",
    "\n",
    "The datasets provide comprehensive information about various apps available on these platforms, including app ratings, download numbers, prices, and other relevant details. By examining these datasets, we seek to understand the types of apps that are most popular among users, enabling us to optimize in-app advertising strategies.\n",
    "\n",
    "### Data Source\n",
    "\n",
    "The datasets for this analysis are sourced from Kaggle.com.\n",
    "\n",
    "Datasets: [AppleStore](https://www.kaggle.com/datasets/ramamet4/app-store-apple-data-set-10k-apps), [Google Playstore](https://www.kaggle.com/datasets/lava18/google-play-store-apps)\n"
   ]
  },
  {
   "cell_type": "code",
   "execution_count": 96,
   "id": "571b186f-0507-426d-a38f-517176e42691",
   "metadata": {},
   "outputs": [],
   "source": [
    "from csv import reader\n",
    "import matplotlib.pyplot as plt\n",
    "import squarify\n",
    "import numpy as np\n",
    "import pandas as pd\n",
    "import plotly.express as px"
   ]
  },
  {
   "cell_type": "code",
   "execution_count": 3,
   "id": "24ee3f2c-21c4-40a5-9199-f46c6d448bc9",
   "metadata": {},
   "outputs": [],
   "source": [
    "# This method prints a chunk of dataset defined by the start and end parameter. The row_cols boolean is for printing number of rows and columns.\n",
    "def explore_data(dataset,start,end,rows_cols = False):\n",
    "    print(\"Printing Dataset \\n\")\n",
    "    data_slice = dataset[start:end]\n",
    "\n",
    "    for row in data_slice:\n",
    "        print(row)\n",
    "        print(\"\\n\")\n",
    "        \n",
    "    if rows_cols:\n",
    "        print(\"Number of rows:\", len(dataset))\n",
    "        print(\"Number of columns\",len(dataset[0]),\"\\n\")"
   ]
  },
  {
   "cell_type": "code",
   "execution_count": 4,
   "id": "b3e98fe5-0125-489f-86d2-9a3e49b7e45c",
   "metadata": {},
   "outputs": [],
   "source": [
    "# Returns a file as a list of list.\n",
    "def readfile(path):\n",
    "    handler = open(path)\n",
    "    file = reader(handler)\n",
    "    return list(file)"
   ]
  },
  {
   "cell_type": "code",
   "execution_count": 5,
   "id": "02d520f3-8fc0-4e02-864b-8abd7b84aa04",
   "metadata": {},
   "outputs": [],
   "source": [
    "# The paths is local directory on my pc\n",
    "apple_store = readfile(\"Datasets/AppleStore.csv\") \n",
    "google_playstore = readfile(\"Datasets/googleplaystore.csv\")"
   ]
  },
  {
   "cell_type": "code",
   "execution_count": 6,
   "id": "3bea4383-c856-416b-b92e-1c7a4683ddad",
   "metadata": {},
   "outputs": [],
   "source": [
    "# This row has incorrect values\n",
    "del google_playstore[10473]"
   ]
  },
  {
   "cell_type": "markdown",
   "id": "1b7958a2-b603-4743-a0b1-2b2c85688ecf",
   "metadata": {},
   "source": [
    "### Checking for duplicates in datasets.\n",
    "\n",
    "The method is designed to check for duplicate values in both the Apple App Store and Google Play Store datasets. It performs the following tasks:\n",
    "\n",
    "1. **Identify Duplicates**: The method scans the datasets to identify any duplicate apps.\n",
    "2. **Print Duplicate Information**: It prints the total number of duplicate apps found and provides the names of a few duplicate apps as a reference.\n",
    "\n",
    "Duplicate values will be removed later based on a specified criterion to ensure each app is unique in the datasets.\n"
   ]
  },
  {
   "cell_type": "code",
   "execution_count": 8,
   "id": "6f927a95-2667-4715-a71e-e75eaa52deb2",
   "metadata": {},
   "outputs": [],
   "source": [
    "def checkDuplicate(dataset):\n",
    "    unique_items = []\n",
    "    duplicate_items = []\n",
    "    for item in dataset:\n",
    "        if item[0] in unique_items:\n",
    "            duplicate_items.append(item[0])\n",
    "        else:\n",
    "            unique_items.append(item[0])\n",
    "\n",
    "    print(\"No of duplicate apps:\", len(duplicate_items))\n",
    "    print(\"Duplicate Items are: \",duplicate_items[0:5])\n",
    "    return duplicate_items"
   ]
  },
  {
   "cell_type": "markdown",
   "id": "03a1c446-69af-44b5-8d76-42b10c5ce120",
   "metadata": {},
   "source": [
    "### Function Descriptions\n",
    "\n",
    "1. **`findDuplicates(dataset):`**\n",
    "\n",
    "    This function takes a dataset as an argument and identifies duplicate entries. It returns a dictionary that includes either unique values or the duplicate entry with the maximum number of reviews. This ensures that only the most relevant or popular duplicate app is retained.\n",
    "\n",
    "2. **`removeDuplicates(dataset):`**\n",
    "\n",
    "    This method retains only the values returned by the `findDuplicates` function and deletes all other values. It returns the cleaned dataset, free from duplicates, ensuring the integrity and accuracy of the data for further analysis."
   ]
  },
  {
   "cell_type": "code",
   "execution_count": 10,
   "id": "7821ab2c-05d5-4e4b-9746-6abb9df3cfd7",
   "metadata": {},
   "outputs": [],
   "source": [
    "def findDuplicates(dataset):\n",
    "    reviews_max = {}\n",
    "\n",
    "    for item in dataset[1:]:\n",
    "        name = item[0]\n",
    "        no_ratings = float(item[3])\n",
    "        if name not in reviews_max:\n",
    "            reviews_max[name] = no_ratings\n",
    "        else:\n",
    "            if no_ratings > reviews_max[name]:\n",
    "                reviews_max[name] = no_ratings\n",
    "    print(len(reviews_max))\n",
    "\n",
    "    return reviews_max"
   ]
  },
  {
   "cell_type": "code",
   "execution_count": 11,
   "id": "27449394-68c7-4d9b-8305-3d4bc42b5468",
   "metadata": {},
   "outputs": [],
   "source": [
    "def removeDuplicates(dataset):\n",
    "    duplicates = findDuplicates(dataset)\n",
    "\n",
    "    already_added = []\n",
    "    android_clean = []\n",
    "    for item in dataset[1:]:\n",
    "        name = item[0]\n",
    "        no_ratings = float(item[3])\n",
    "\n",
    "        if (name not in already_added) and (no_ratings == duplicates[name]):\n",
    "            android_clean.append(item)\n",
    "            already_added.append(name)\n",
    "\n",
    "    return android_clean"
   ]
  },
  {
   "cell_type": "code",
   "execution_count": 12,
   "id": "3a8a84a9-2f8c-4614-bc38-9ddae0023bb6",
   "metadata": {},
   "outputs": [
    {
     "name": "stdout",
     "output_type": "stream",
     "text": [
      "9659\n"
     ]
    }
   ],
   "source": [
    "# By running findDuplicates I found that only google_playstore has duplicates values.\n",
    "google_playstore = removeDuplicates(google_playstore)"
   ]
  },
  {
   "cell_type": "markdown",
   "id": "d912ea70-fd91-49a2-a953-dda22bc67de6",
   "metadata": {},
   "source": [
    "### Function Descriptions\n",
    "\n",
    "1. **`isEnglish(str):`**\n",
    "\n",
    "    This function checks if a given string is in English. It does so by counting the number of non-English characters in the string. This method is used later to filter out non-English apps from the dataset, as we will only process English-language apps.\n",
    "\n",
    "2. **`filterEnglishApps(dataset, name_col_index):`**\n",
    "\n",
    "    This method filters and returns all English-language apps from the dataset using the `isEnglish` method. The `name_col_index` parameter specifies the column index in the dataset to which the filter should be applied. By using this method, we ensure that only apps with English names are included in our analysis.\n",
    "\n",
    "3. **`filterFreeApps(dataset, price_col_index):`**\n",
    "\n",
    "    This method filters and returns only the free apps from the dataset. It takes the column index of the price as an argument (`price_col_index`) and includes only those apps where the price is equal to 0. This allows us to focus our analysis on apps that are free to download and use."
   ]
  },
  {
   "cell_type": "code",
   "execution_count": 14,
   "id": "3a64132b-18b0-43ac-8f1f-ce80c31643cd",
   "metadata": {},
   "outputs": [],
   "source": [
    "def isEnglish(str):\n",
    "    counter = 0\n",
    "    for char in str:\n",
    "        if ord(char) > 127:\n",
    "            counter += 1 \n",
    "            \n",
    "            \n",
    "    return False if counter > 3 else True"
   ]
  },
  {
   "cell_type": "code",
   "execution_count": 15,
   "id": "b19a30ea-6509-47fc-bb19-ad8ae6487652",
   "metadata": {},
   "outputs": [],
   "source": [
    "def filterEnglishApps(dataset,name_col_index):\n",
    "    english_apps = []\n",
    "    english_apps.append(dataset[0])\n",
    "    for item in dataset[1:]:\n",
    "        if isEnglish(item[name_col_index]):\n",
    "            english_apps.append(item)\n",
    "\n",
    "    return english_apps"
   ]
  },
  {
   "cell_type": "code",
   "execution_count": 16,
   "id": "4365482f-479c-47dc-89ee-db15c4a22d3f",
   "metadata": {},
   "outputs": [],
   "source": [
    "def filterFreeApps(dataset,price_col_index):\n",
    "    free_apps = []\n",
    "    free_apps.append(dataset[0])\n",
    "    for item in dataset[1:]:\n",
    "        price = item[price_col_index]\n",
    "        if price == \"0.0\" or price == \"0\":\n",
    "            free_apps.append(item)          \n",
    "\n",
    "    return free_apps"
   ]
  },
  {
   "cell_type": "code",
   "execution_count": 17,
   "id": "245d1c2e-fc77-4abf-85cd-cfccdabc02b8",
   "metadata": {},
   "outputs": [],
   "source": [
    "# Taking only English apps for our analysis\n",
    "google_playstore = filterEnglishApps(google_playstore,0)\n",
    "apple_store = filterEnglishApps(apple_store,2)\n"
   ]
  },
  {
   "cell_type": "code",
   "execution_count": 18,
   "id": "16be04f9-8a76-481b-9af7-8fbaafcf9de2",
   "metadata": {},
   "outputs": [],
   "source": [
    "# Taking only free English apps for our analysis\n",
    "google_playstore = filterFreeApps(google_playstore,7)\n",
    "apple_store = filterFreeApps(apple_store,4)"
   ]
  },
  {
   "cell_type": "markdown",
   "id": "83a7245d-3846-4e4e-90ab-27efd3c20b25",
   "metadata": {},
   "source": [
    "### Function Descriptions\n",
    "\n",
    "1. **`freq_table(dataset, col_index):`**\n",
    "\n",
    "    This function generates a frequency table for a specified column in the dataset. It creates a dictionary where each key is a unique value from the column, and each value is the percentage of occurrences of that unique value in the column. The percentages are calculated relative to the total number of entries in the column.\n",
    "\n",
    "2. **`display_table(dataset, index):`**\n",
    "\n",
    "    This function displays the frequency table for a specified column in the dataset. It first generates the frequency table using the `freq_table` function, then sorts the entries in descending order of frequency. Finally, it prints each unique value and its corresponding percentage."
   ]
  },
  {
   "cell_type": "code",
   "execution_count": 20,
   "id": "0e37ed88-353d-48e2-be6f-7a9d4dc71bca",
   "metadata": {},
   "outputs": [],
   "source": [
    "def freq_table(dataset,col_index):\n",
    "    freq_table = {}\n",
    "    for item in dataset[1:]:\n",
    "        data = item[col_index]\n",
    "        if data in freq_table:\n",
    "            freq_table[data] += 1\n",
    "        else:\n",
    "            freq_table[data] = 1\n",
    "\n",
    "    for item in freq_table:\n",
    "        freq_table[item] /= (len(dataset) - 1)\n",
    "        freq_table[item] *= 100\n",
    "    return freq_table "
   ]
  },
  {
   "cell_type": "code",
   "execution_count": 21,
   "id": "d06f35fe-44b6-484a-9b38-8be90494a408",
   "metadata": {},
   "outputs": [],
   "source": [
    "def display_table(dataset, index):\n",
    "    table = freq_table(dataset, index)\n",
    "    table_display = []\n",
    "    for key in table:\n",
    "        key_val_as_tuple = (table[key], key)\n",
    "        table_display.append(key_val_as_tuple)\n",
    "\n",
    "    table_sorted = sorted(table_display, reverse = True)\n",
    "    for entry in table_sorted:\n",
    "        print(entry[1], ':', entry[0])"
   ]
  },
  {
   "cell_type": "markdown",
   "id": "56f4646f-6ba1-4af9-af42-fbb671c4e97c",
   "metadata": {},
   "source": [
    "### Function Descriptions\n",
    "\n",
    "**`mostPopularGenreGoogle(dataset, unique_genres):`**\n",
    "\n",
    "This method calculates and prints the most popular genres in the Google Play Store dataset based on the average number of installs. It processes the dataset by summing and averaging the installs for each genre (after cleaning the install values), and then sorts and prints the genres by average installs in descending order. This helps identify which genres have the highest user engagement.\n",
    "\n",
    "**`mostPopularGenreApple(dataset, unique_genres):`**\n",
    "\n",
    "This method calculates and prints the most popular genres in the Apple App Store dataset based on the average number of user ratings. Unlike the Google Play Store dataset, which has an installs column, the Apple dataset does not. Therefore, it calculates the average number of ratings for each genre. The method initializes a dictionary to store these averages, sorts them, and prints the genres in descending order of average ratings, highlighting those with the highest user engagement."
   ]
  },
  {
   "cell_type": "code",
   "execution_count": 164,
   "id": "012dd7c6-24ab-4a2c-9f18-5a865eaa9135",
   "metadata": {},
   "outputs": [],
   "source": [
    "import plotly.io as pio\n",
    "import pandas as pd\n",
    "\n",
    "def horizontal_bar_chart(data, title, file_path):\n",
    "    \"\"\"\n",
    "    Creates a horizontal bar chart with a list of tuples as input and saves it as an image file.\n",
    "    Each tuple contains a value and a genre name.\n",
    "    \n",
    "    :param data: List of tuples [(value, genre_name), ...]\n",
    "    :param title: Title of the chart\n",
    "    :param file_path: File path to save the chart image\n",
    "    :return: Plotly figure object\n",
    "    \"\"\"\n",
    "    # Round values to two decimal places\n",
    "    rounded_data = [(round(value, 2), genre) for value, genre in data]\n",
    "    \n",
    "    # Prepare data for Plotly\n",
    "    df = pd.DataFrame(rounded_data, columns=['Value', 'Genre'])\n",
    "    \n",
    "    # Create the horizontal bar chart\n",
    "    fig = px.bar(df, y='Genre', x='Value', orientation='h',\n",
    "                 color='Genre',  # Color bars by genre\n",
    "                 title=f'Horizontal Bar Chart of Genres for {title}',\n",
    "                 labels={'Value': 'Size'},\n",
    "                 text='Value',\n",
    "                 template='plotly_white')\n",
    "    \n",
    "    # Update layout for better appearance\n",
    "    fig.update_layout(title={'x':0.5},\n",
    "                      xaxis_title='Size',\n",
    "                      yaxis_title='Genre',\n",
    "                      xaxis=dict(tickvals=df['Value'], ticktext=[f'{v}' for v in df['Value']]),\n",
    "                      height=1200,  # Increased height\n",
    "                      width=1200)   # Increased width\n",
    "    \n",
    "    # Save the figure as an image file\n",
    "    pio.write_image(fig, file_path,format='png')\n",
    "    \n",
    "    return fig\n",
    "\n"
   ]
  },
  {
   "cell_type": "code",
   "execution_count": 170,
   "id": "5fe3d0ef-10d4-40fc-869c-a245bb333697",
   "metadata": {},
   "outputs": [],
   "source": [
    "def create_treemap(data, title, file_path):\n",
    "    \"\"\"\n",
    "    Creates a treemap from a list of tuples where each tuple contains a value and a genre name\n",
    "    and saves it as an image file.\n",
    "    \n",
    "    :param data: List of tuples [(value, genre_name), ...]\n",
    "    :param title: Title of the chart\n",
    "    :param file_path: File path to save the chart image\n",
    "    \"\"\"\n",
    "    # Round values to two decimal places\n",
    "    rounded_data = [(round(value, 2), genre) for value, genre in data]\n",
    "    \n",
    "    # Unpack the data into values and labels\n",
    "    values, labels = zip(*rounded_data)\n",
    "    \n",
    "    # Define a colormap\n",
    "    cmap = plt.get_cmap('tab20')  # 'tab20' provides up to 20 distinct colors\n",
    "    \n",
    "    # Generate colors for each genre\n",
    "    colors = [cmap(i / len(labels)) for i in range(len(labels))]\n",
    "    \n",
    "    # Create the figure and axis\n",
    "    plt.figure(figsize=(15, 15))\n",
    "    \n",
    "    # Create the treemap\n",
    "    squarify.plot(sizes=values, label=labels, alpha=0.7, color=colors)\n",
    "    \n",
    "    # Add title and display the plot\n",
    "    plt.title('Treemap of {} Genres'.format(title))\n",
    "    plt.axis('off')  # Hide the axes\n",
    "    \n",
    "    # Save the figure\n",
    "    plt.savefig(file_path)\n",
    "    \n",
    "    plt.show()"
   ]
  },
  {
   "cell_type": "code",
   "execution_count": 24,
   "id": "d45c3408-929b-40e6-a036-ef7576346e2a",
   "metadata": {},
   "outputs": [],
   "source": [
    "\n",
    "def mostPopularGenreApple(dataset,unique_genres):\n",
    "    dict = {}\n",
    "    for key in unique_genres:\n",
    "        total = 0\n",
    "        len_genre = 0\n",
    "        for row in dataset[1:]:\n",
    "            genre = row[-5]\n",
    "            if key == genre:\n",
    "                total += float(row[5])\n",
    "                len_genre += 1\n",
    "        avg = total / len_genre\n",
    "        dict[key] = avg\n",
    "\n",
    "    table_display = []\n",
    "    for key in dict:\n",
    "        key_val_as_tuple = (dict[key], key)\n",
    "        table_display.append(key_val_as_tuple)\n",
    "        \n",
    "    table_sorted = sorted(table_display, reverse = True)\n",
    "    for entry in table_sorted:\n",
    "        print(entry[1], ':', entry[0])\n",
    "    return table_sorted\n",
    "        \n",
    "        "
   ]
  },
  {
   "cell_type": "code",
   "execution_count": 25,
   "id": "ee65a5f1-2362-4fe3-ba21-ca1385429423",
   "metadata": {},
   "outputs": [],
   "source": [
    "\n",
    "def mostPopularGenreGoogle(dataset,unique_genres):\n",
    "    dict = {}\n",
    "    for key in unique_genres:\n",
    "        total = 0\n",
    "        len_genre = 0\n",
    "        for row in dataset[1:]:\n",
    "            genre = row[1]\n",
    "            if key == genre:\n",
    "                installs = row[5]\n",
    "                if installs.__contains__(','):\n",
    "                    installs = installs.replace(',',\"\")\n",
    "                installs = installs.replace(\"+\",\"\")\n",
    "                total += float(installs)\n",
    "                len_genre += 1\n",
    "        avg = total / len_genre\n",
    "        dict[key] = avg\n",
    "\n",
    "    table_display = []\n",
    "    for key in dict:\n",
    "        key_val_as_tuple = (dict[key], key)\n",
    "        table_display.append(key_val_as_tuple)\n",
    "\n",
    "    table_sorted = sorted(table_display, reverse = True)\n",
    "   \n",
    "    for entry in table_sorted:\n",
    "        print(entry[1], ':', entry[0])\n",
    "    return table_sorted\n",
    "        \n",
    "        "
   ]
  },
  {
   "cell_type": "code",
   "execution_count": 26,
   "id": "0a6796d0-d272-4aa5-8022-5e448ebbdf3d",
   "metadata": {},
   "outputs": [
    {
     "name": "stdout",
     "output_type": "stream",
     "text": [
      "Reference : 67447.9\n",
      "Music : 56482.02985074627\n",
      "Social Networking : 53078.195804195806\n",
      "Weather : 47220.93548387097\n",
      "Photo & Video : 27249.892215568863\n",
      "Navigation : 25972.05\n",
      "Travel : 20216.01785714286\n",
      "Food & Drink : 20179.093023255813\n",
      "Sports : 20128.974683544304\n",
      "Health & Fitness : 19952.315789473683\n",
      "Productivity : 19053.887096774193\n",
      "Games : 18924.68896765618\n",
      "Shopping : 18746.677685950413\n",
      "News : 15892.724137931034\n",
      "Utilities : 14010.100917431193\n",
      "Finance : 13522.261904761905\n",
      "Entertainment : 10822.961077844311\n",
      "Lifestyle : 8978.308510638299\n",
      "Book : 8498.333333333334\n",
      "Business : 6367.8\n",
      "Education : 6266.333333333333\n",
      "Catalogs : 1779.5555555555557\n",
      "Medical : 459.75\n",
      ">>>>>>>>>>>>>>>>>>>>>>>>>>>>>>>>>>>>>>\n",
      "COMMUNICATION : 38456119.167247385\n",
      "VIDEO_PLAYERS : 24727872.452830188\n",
      "SOCIAL : 23253652.127118643\n",
      "PHOTOGRAPHY : 17840110.40229885\n",
      "PRODUCTIVITY : 16787331.344927534\n",
      "GAME : 15588015.603248259\n",
      "TRAVEL_AND_LOCAL : 13984077.710144928\n",
      "ENTERTAINMENT : 11640705.88235294\n",
      "TOOLS : 10801391.298666667\n",
      "NEWS_AND_MAGAZINES : 9549178.467741935\n",
      "BOOKS_AND_REFERENCE : 8767811.894736841\n",
      "SHOPPING : 7036877.311557789\n",
      "PERSONALIZATION : 5201482.6122448975\n",
      "WEATHER : 5074486.197183099\n",
      "HEALTH_AND_FITNESS : 4188821.9853479853\n",
      "MAPS_AND_NAVIGATION : 4056941.7741935486\n",
      "FAMILY : 3695641.8198090694\n",
      "SPORTS : 3638640.1428571427\n",
      "ART_AND_DESIGN : 2021626.7857142857\n",
      "FOOD_AND_DRINK : 1924897.7363636363\n",
      "EDUCATION : 1833495.145631068\n",
      "BUSINESS : 1712290.1474201474\n",
      "LIFESTYLE : 1437816.2687861272\n",
      "FINANCE : 1387692.475609756\n",
      "HOUSE_AND_HOME : 1331540.5616438356\n",
      "DATING : 854028.8303030303\n",
      "COMICS : 817657.2727272727\n",
      "AUTO_AND_VEHICLES : 647317.8170731707\n",
      "LIBRARIES_AND_DEMO : 638503.734939759\n",
      "PARENTING : 542603.6206896552\n",
      "BEAUTY : 513151.88679245283\n",
      "EVENTS : 253542.22222222222\n",
      "MEDICAL : 120550.61980830671\n"
     ]
    }
   ],
   "source": [
    "#Finding and printing most popular genre for both datasets.\n",
    "apple_popular_genre = mostPopularGenreApple(apple_store,freq_table(apple_store,11))\n",
    "print(\">>>>>>>>>>>>>>>>>>>>>>>>>>>>>>>>>>>>>>\")\n",
    "google_popular_genre = mostPopularGenreGoogle(google_playstore,freq_table(google_playstore,1))"
   ]
  },
  {
   "cell_type": "code",
   "execution_count": 172,
   "id": "22aec513-6858-4e17-9f73-e65907f29194",
   "metadata": {},
   "outputs": [
    {
     "data": {
      "image/png": "[encoded data removed]",
      "text/plain": [
       "<Figure size 1500x1500 with 1 Axes>"
      ]
     },
     "metadata": {},
     "output_type": "display_data"
    },
    {
     "data": {
      "image/png": "[encoded data removed]",
      "text/plain": [
       "<Figure size 1500x1500 with 1 Axes>"
      ]
     },
     "metadata": {},
     "output_type": "display_data"
    },
    {
     "data": {
      "application/vnd.plotly.v1+json": {
       "config": {
        "plotlyServerURL": "https://plot.ly"
       },
       "data": [
        {
         "alignmentgroup": "True",
         "hovertemplate": "Genre=%{y}<br>Size=%{text}<extra></extra>",
         "legendgroup": "Reference",
         "marker": {
          "color": "#636efa",
          "pattern": {
           "shape": ""
          }
         },
         "name": "Reference",
         "offsetgroup": "Reference",
         "orientation": "h",
         "showlegend": true,
         "text": [
          67447.9
         ],
         "textposition": "auto",
         "type": "bar",
         "x": [
          67447.9
         ],
         "xaxis": "x",
         "y": [
          "Reference"
         ],
         "yaxis": "y"
        },
        {
         "alignmentgroup": "True",
         "hovertemplate": "Genre=%{y}<br>Size=%{text}<extra></extra>",
         "legendgroup": "Music",
         "marker": {
          "color": "#EF553B",
          "pattern": {
           "shape": ""
          }
         },
         "name": "Music",
         "offsetgroup": "Music",
         "orientation": "h",
         "showlegend": true,
         "text": [
          56482.03
         ],
         "textposition": "auto",
         "type": "bar",
         "x": [
          56482.03
         ],
         "xaxis": "x",
         "y": [
          "Music"
         ],
         "yaxis": "y"
        },
        {
         "alignmentgroup": "True",
         "hovertemplate": "Genre=%{y}<br>Size=%{text}<extra></extra>",
         "legendgroup": "Social Networking",
         "marker": {
          "color": "#00cc96",
          "pattern": {
           "shape": ""
          }
         },
         "name": "Social Networking",
         "offsetgroup": "Social Networking",
         "orientation": "h",
         "showlegend": true,
         "text": [
          53078.2
         ],
         "textposition": "auto",
         "type": "bar",
         "x": [
          53078.2
         ],
         "xaxis": "x",
         "y": [
          "Social Networking"
         ],
         "yaxis": "y"
        },
        {
         "alignmentgroup": "True",
         "hovertemplate": "Genre=%{y}<br>Size=%{text}<extra></extra>",
         "legendgroup": "Weather",
         "marker": {
          "color": "#ab63fa",
          "pattern": {
           "shape": ""
          }
         },
         "name": "Weather",
         "offsetgroup": "Weather",
         "orientation": "h",
         "showlegend": true,
         "text": [
          47220.94
         ],
         "textposition": "auto",
         "type": "bar",
         "x": [
          47220.94
         ],
         "xaxis": "x",
         "y": [
          "Weather"
         ],
         "yaxis": "y"
        },
        {
         "alignmentgroup": "True",
         "hovertemplate": "Genre=%{y}<br>Size=%{text}<extra></extra>",
         "legendgroup": "Photo & Video",
         "marker": {
          "color": "#FFA15A",
          "pattern": {
           "shape": ""
          }
         },
         "name": "Photo & Video",
         "offsetgroup": "Photo & Video",
         "orientation": "h",
         "showlegend": true,
         "text": [
          27249.89
         ],
         "textposition": "auto",
         "type": "bar",
         "x": [
          27249.89
         ],
         "xaxis": "x",
         "y": [
          "Photo & Video"
         ],
         "yaxis": "y"
        },
        {
         "alignmentgroup": "True",
         "hovertemplate": "Genre=%{y}<br>Size=%{text}<extra></extra>",
         "legendgroup": "Navigation",
         "marker": {
          "color": "#19d3f3",
          "pattern": {
           "shape": ""
          }
         },
         "name": "Navigation",
         "offsetgroup": "Navigation",
         "orientation": "h",
         "showlegend": true,
         "text": [
          25972.05
         ],
         "textposition": "auto",
         "type": "bar",
         "x": [
          25972.05
         ],
         "xaxis": "x",
         "y": [
          "Navigation"
         ],
         "yaxis": "y"
        },
        {
         "alignmentgroup": "True",
         "hovertemplate": "Genre=%{y}<br>Size=%{text}<extra></extra>",
         "legendgroup": "Travel",
         "marker": {
          "color": "#FF6692",
          "pattern": {
           "shape": ""
          }
         },
         "name": "Travel",
         "offsetgroup": "Travel",
         "orientation": "h",
         "showlegend": true,
         "text": [
          20216.02
         ],
         "textposition": "auto",
         "type": "bar",
         "x": [
          20216.02
         ],
         "xaxis": "x",
         "y": [
          "Travel"
         ],
         "yaxis": "y"
        },
        {
         "alignmentgroup": "True",
         "hovertemplate": "Genre=%{y}<br>Size=%{text}<extra></extra>",
         "legendgroup": "Food & Drink",
         "marker": {
          "color": "#B6E880",
          "pattern": {
           "shape": ""
          }
         },
         "name": "Food & Drink",
         "offsetgroup": "Food & Drink",
         "orientation": "h",
         "showlegend": true,
         "text": [
          20179.09
         ],
         "textposition": "auto",
         "type": "bar",
         "x": [
          20179.09
         ],
         "xaxis": "x",
         "y": [
          "Food & Drink"
         ],
         "yaxis": "y"
        },
        {
         "alignmentgroup": "True",
         "hovertemplate": "Genre=%{y}<br>Size=%{text}<extra></extra>",
         "legendgroup": "Sports",
         "marker": {
          "color": "#FF97FF",
          "pattern": {
           "shape": ""
          }
         },
         "name": "Sports",
         "offsetgroup": "Sports",
         "orientation": "h",
         "showlegend": true,
         "text": [
          20128.97
         ],
         "textposition": "auto",
         "type": "bar",
         "x": [
          20128.97
         ],
         "xaxis": "x",
         "y": [
          "Sports"
         ],
         "yaxis": "y"
        },
        {
         "alignmentgroup": "True",
         "hovertemplate": "Genre=%{y}<br>Size=%{text}<extra></extra>",
         "legendgroup": "Health & Fitness",
         "marker": {
          "color": "#FECB52",
          "pattern": {
           "shape": ""
          }
         },
         "name": "Health & Fitness",
         "offsetgroup": "Health & Fitness",
         "orientation": "h",
         "showlegend": true,
         "text": [
          19952.32
         ],
         "textposition": "auto",
         "type": "bar",
         "x": [
          19952.32
         ],
         "xaxis": "x",
         "y": [
          "Health & Fitness"
         ],
         "yaxis": "y"
        },
        {
         "alignmentgroup": "True",
         "hovertemplate": "Genre=%{y}<br>Size=%{text}<extra></extra>",
         "legendgroup": "Productivity",
         "marker": {
          "color": "#636efa",
          "pattern": {
           "shape": ""
          }
         },
         "name": "Productivity",
         "offsetgroup": "Productivity",
         "orientation": "h",
         "showlegend": true,
         "text": [
          19053.89
         ],
         "textposition": "auto",
         "type": "bar",
         "x": [
          19053.89
         ],
         "xaxis": "x",
         "y": [
          "Productivity"
         ],
         "yaxis": "y"
        },
        {
         "alignmentgroup": "True",
         "hovertemplate": "Genre=%{y}<br>Size=%{text}<extra></extra>",
         "legendgroup": "Games",
         "marker": {
          "color": "#EF553B",
          "pattern": {
           "shape": ""
          }
         },
         "name": "Games",
         "offsetgroup": "Games",
         "orientation": "h",
         "showlegend": true,
         "text": [
          18924.69
         ],
         "textposition": "auto",
         "type": "bar",
         "x": [
          18924.69
         ],
         "xaxis": "x",
         "y": [
          "Games"
         ],
         "yaxis": "y"
        },
        {
         "alignmentgroup": "True",
         "hovertemplate": "Genre=%{y}<br>Size=%{text}<extra></extra>",
         "legendgroup": "Shopping",
         "marker": {
          "color": "#00cc96",
          "pattern": {
           "shape": ""
          }
         },
         "name": "Shopping",
         "offsetgroup": "Shopping",
         "orientation": "h",
         "showlegend": true,
         "text": [
          18746.68
         ],
         "textposition": "auto",
         "type": "bar",
         "x": [
          18746.68
         ],
         "xaxis": "x",
         "y": [
          "Shopping"
         ],
         "yaxis": "y"
        },
        {
         "alignmentgroup": "True",
         "hovertemplate": "Genre=%{y}<br>Size=%{text}<extra></extra>",
         "legendgroup": "News",
         "marker": {
          "color": "#ab63fa",
          "pattern": {
           "shape": ""
          }
         },
         "name": "News",
         "offsetgroup": "News",
         "orientation": "h",
         "showlegend": true,
         "text": [
          15892.72
         ],
         "textposition": "auto",
         "type": "bar",
         "x": [
          15892.72
         ],
         "xaxis": "x",
         "y": [
          "News"
         ],
         "yaxis": "y"
        },
        {
         "alignmentgroup": "True",
         "hovertemplate": "Genre=%{y}<br>Size=%{text}<extra></extra>",
         "legendgroup": "Utilities",
         "marker": {
          "color": "#FFA15A",
          "pattern": {
           "shape": ""
          }
         },
         "name": "Utilities",
         "offsetgroup": "Utilities",
         "orientation": "h",
         "showlegend": true,
         "text": [
          14010.1
         ],
         "textposition": "auto",
         "type": "bar",
         "x": [
          14010.1
         ],
         "xaxis": "x",
         "y": [
          "Utilities"
         ],
         "yaxis": "y"
        },
        {
         "alignmentgroup": "True",
         "hovertemplate": "Genre=%{y}<br>Size=%{text}<extra></extra>",
         "legendgroup": "Finance",
         "marker": {
          "color": "#19d3f3",
          "pattern": {
           "shape": ""
          }
         },
         "name": "Finance",
         "offsetgroup": "Finance",
         "orientation": "h",
         "showlegend": true,
         "text": [
          13522.26
         ],
         "textposition": "auto",
         "type": "bar",
         "x": [
          13522.26
         ],
         "xaxis": "x",
         "y": [
          "Finance"
         ],
         "yaxis": "y"
        },
        {
         "alignmentgroup": "True",
         "hovertemplate": "Genre=%{y}<br>Size=%{text}<extra></extra>",
         "legendgroup": "Entertainment",
         "marker": {
          "color": "#FF6692",
          "pattern": {
           "shape": ""
          }
         },
         "name": "Entertainment",
         "offsetgroup": "Entertainment",
         "orientation": "h",
         "showlegend": true,
         "text": [
          10822.96
         ],
         "textposition": "auto",
         "type": "bar",
         "x": [
          10822.96
         ],
         "xaxis": "x",
         "y": [
          "Entertainment"
         ],
         "yaxis": "y"
        },
        {
         "alignmentgroup": "True",
         "hovertemplate": "Genre=%{y}<br>Size=%{text}<extra></extra>",
         "legendgroup": "Lifestyle",
         "marker": {
          "color": "#B6E880",
          "pattern": {
           "shape": ""
          }
         },
         "name": "Lifestyle",
         "offsetgroup": "Lifestyle",
         "orientation": "h",
         "showlegend": true,
         "text": [
          8978.31
         ],
         "textposition": "auto",
         "type": "bar",
         "x": [
          8978.31
         ],
         "xaxis": "x",
         "y": [
          "Lifestyle"
         ],
         "yaxis": "y"
        },
        {
         "alignmentgroup": "True",
         "hovertemplate": "Genre=%{y}<br>Size=%{text}<extra></extra>",
         "legendgroup": "Book",
         "marker": {
          "color": "#FF97FF",
          "pattern": {
           "shape": ""
          }
         },
         "name": "Book",
         "offsetgroup": "Book",
         "orientation": "h",
         "showlegend": true,
         "text": [
          8498.33
         ],
         "textposition": "auto",
         "type": "bar",
         "x": [
          8498.33
         ],
         "xaxis": "x",
         "y": [
          "Book"
         ],
         "yaxis": "y"
        },
        {
         "alignmentgroup": "True",
         "hovertemplate": "Genre=%{y}<br>Size=%{text}<extra></extra>",
         "legendgroup": "Business",
         "marker": {
          "color": "#FECB52",
          "pattern": {
           "shape": ""
          }
         },
         "name": "Business",
         "offsetgroup": "Business",
         "orientation": "h",
         "showlegend": true,
         "text": [
          6367.8
         ],
         "textposition": "auto",
         "type": "bar",
         "x": [
          6367.8
         ],
         "xaxis": "x",
         "y": [
          "Business"
         ],
         "yaxis": "y"
        },
        {
         "alignmentgroup": "True",
         "hovertemplate": "Genre=%{y}<br>Size=%{text}<extra></extra>",
         "legendgroup": "Education",
         "marker": {
          "color": "#636efa",
          "pattern": {
           "shape": ""
          }
         },
         "name": "Education",
         "offsetgroup": "Education",
         "orientation": "h",
         "showlegend": true,
         "text": [
          6266.33
         ],
         "textposition": "auto",
         "type": "bar",
         "x": [
          6266.33
         ],
         "xaxis": "x",
         "y": [
          "Education"
         ],
         "yaxis": "y"
        },
        {
         "alignmentgroup": "True",
         "hovertemplate": "Genre=%{y}<br>Size=%{text}<extra></extra>",
         "legendgroup": "Catalogs",
         "marker": {
          "color": "#EF553B",
          "pattern": {
           "shape": ""
          }
         },
         "name": "Catalogs",
         "offsetgroup": "Catalogs",
         "orientation": "h",
         "showlegend": true,
         "text": [
          1779.56
         ],
         "textposition": "auto",
         "type": "bar",
         "x": [
          1779.56
         ],
         "xaxis": "x",
         "y": [
          "Catalogs"
         ],
         "yaxis": "y"
        },
        {
         "alignmentgroup": "True",
         "hovertemplate": "Genre=%{y}<br>Size=%{text}<extra></extra>",
         "legendgroup": "Medical",
         "marker": {
          "color": "#00cc96",
          "pattern": {
           "shape": ""
          }
         },
         "name": "Medical",
         "offsetgroup": "Medical",
         "orientation": "h",
         "showlegend": true,
         "text": [
          459.75
         ],
         "textposition": "auto",
         "type": "bar",
         "x": [
          459.75
         ],
         "xaxis": "x",
         "y": [
          "Medical"
         ],
         "yaxis": "y"
        }
       ],
       "layout": {
        "barmode": "relative",
        "height": 1200,
        "legend": {
         "title": {
          "text": "Genre"
         },
         "tracegroupgap": 0
        },
        "template": {
         "data": {
          "bar": [
           {
            "error_x": {
             "color": "#2a3f5f"
            },
            "error_y": {
             "color": "#2a3f5f"
            },
            "marker": {
             "line": {
              "color": "white",
              "width": 0.5
             },
             "pattern": {
              "fillmode": "overlay",
              "size": 10,
              "solidity": 0.2
             }
            },
            "type": "bar"
           }
          ],
          "barpolar": [
           {
            "marker": {
             "line": {
              "color": "white",
              "width": 0.5
             },
             "pattern": {
              "fillmode": "overlay",
              "size": 10,
              "solidity": 0.2
             }
            },
            "type": "barpolar"
           }
          ],
          "carpet": [
           {
            "aaxis": {
             "endlinecolor": "#2a3f5f",
             "gridcolor": "#C8D4E3",
             "linecolor": "#C8D4E3",
             "minorgridcolor": "#C8D4E3",
             "startlinecolor": "#2a3f5f"
            },
            "baxis": {
             "endlinecolor": "#2a3f5f",
             "gridcolor": "#C8D4E3",
             "linecolor": "#C8D4E3",
             "minorgridcolor": "#C8D4E3",
             "startlinecolor": "#2a3f5f"
            },
            "type": "carpet"
           }
          ],
          "choropleth": [
           {
            "colorbar": {
             "outlinewidth": 0,
             "ticks": ""
            },
            "type": "choropleth"
           }
          ],
          "contour": [
           {
            "colorbar": {
             "outlinewidth": 0,
             "ticks": ""
            },
            "colorscale": [
             [
              0,
              "#0d0887"
             ],
             [
              0.1111111111111111,
              "#46039f"
             ],
             [
              0.2222222222222222,
              "#7201a8"
             ],
             [
              0.3333333333333333,
              "#9c179e"
             ],
             [
              0.4444444444444444,
              "#bd3786"
             ],
             [
              0.5555555555555556,
              "#d8576b"
             ],
             [
              0.6666666666666666,
              "#ed7953"
             ],
             [
              0.7777777777777778,
              "#fb9f3a"
             ],
             [
              0.8888888888888888,
              "#fdca26"
             ],
             [
              1,
              "#f0f921"
             ]
            ],
            "type": "contour"
           }
          ],
          "contourcarpet": [
           {
            "colorbar": {
             "outlinewidth": 0,
             "ticks": ""
            },
            "type": "contourcarpet"
           }
          ],
          "heatmap": [
           {
            "colorbar": {
             "outlinewidth": 0,
             "ticks": ""
            },
            "colorscale": [
             [
              0,
              "#0d0887"
             ],
             [
              0.1111111111111111,
              "#46039f"
             ],
             [
              0.2222222222222222,
              "#7201a8"
             ],
             [
              0.3333333333333333,
              "#9c179e"
             ],
             [
              0.4444444444444444,
              "#bd3786"
             ],
             [
              0.5555555555555556,
              "#d8576b"
             ],
             [
              0.6666666666666666,
              "#ed7953"
             ],
             [
              0.7777777777777778,
              "#fb9f3a"
             ],
             [
              0.8888888888888888,
              "#fdca26"
             ],
             [
              1,
              "#f0f921"
             ]
            ],
            "type": "heatmap"
           }
          ],
          "heatmapgl": [
           {
            "colorbar": {
             "outlinewidth": 0,
             "ticks": ""
            },
            "colorscale": [
             [
              0,
              "#0d0887"
             ],
             [
              0.1111111111111111,
              "#46039f"
             ],
             [
              0.2222222222222222,
              "#7201a8"
             ],
             [
              0.3333333333333333,
              "#9c179e"
             ],
             [
              0.4444444444444444,
              "#bd3786"
             ],
             [
              0.5555555555555556,
              "#d8576b"
             ],
             [
              0.6666666666666666,
              "#ed7953"
             ],
             [
              0.7777777777777778,
              "#fb9f3a"
             ],
             [
              0.8888888888888888,
              "#fdca26"
             ],
             [
              1,
              "#f0f921"
             ]
            ],
            "type": "heatmapgl"
           }
          ],
          "histogram": [
           {
            "marker": {
             "pattern": {
              "fillmode": "overlay",
              "size": 10,
              "solidity": 0.2
             }
            },
            "type": "histogram"
           }
          ],
          "histogram2d": [
           {
            "colorbar": {
             "outlinewidth": 0,
             "ticks": ""
            },
            "colorscale": [
             [
              0,
              "#0d0887"
             ],
             [
              0.1111111111111111,
              "#46039f"
             ],
             [
              0.2222222222222222,
              "#7201a8"
             ],
             [
              0.3333333333333333,
              "#9c179e"
             ],
             [
              0.4444444444444444,
              "#bd3786"
             ],
             [
              0.5555555555555556,
              "#d8576b"
             ],
             [
              0.6666666666666666,
              "#ed7953"
             ],
             [
              0.7777777777777778,
              "#fb9f3a"
             ],
             [
              0.8888888888888888,
              "#fdca26"
             ],
             [
              1,
              "#f0f921"
             ]
            ],
            "type": "histogram2d"
           }
          ],
          "histogram2dcontour": [
           {
            "colorbar": {
             "outlinewidth": 0,
             "ticks": ""
            },
            "colorscale": [
             [
              0,
              "#0d0887"
             ],
             [
              0.1111111111111111,
              "#46039f"
             ],
             [
              0.2222222222222222,
              "#7201a8"
             ],
             [
              0.3333333333333333,
              "#9c179e"
             ],
             [
              0.4444444444444444,
              "#bd3786"
             ],
             [
              0.5555555555555556,
              "#d8576b"
             ],
             [
              0.6666666666666666,
              "#ed7953"
             ],
             [
              0.7777777777777778,
              "#fb9f3a"
             ],
             [
              0.8888888888888888,
              "#fdca26"
             ],
             [
              1,
              "#f0f921"
             ]
            ],
            "type": "histogram2dcontour"
           }
          ],
          "mesh3d": [
           {
            "colorbar": {
             "outlinewidth": 0,
             "ticks": ""
            },
            "type": "mesh3d"
           }
          ],
          "parcoords": [
           {
            "line": {
             "colorbar": {
              "outlinewidth": 0,
              "ticks": ""
             }
            },
            "type": "parcoords"
           }
          ],
          "pie": [
           {
            "automargin": true,
            "type": "pie"
           }
          ],
          "scatter": [
           {
            "fillpattern": {
             "fillmode": "overlay",
             "size": 10,
             "solidity": 0.2
            },
            "type": "scatter"
           }
          ],
          "scatter3d": [
           {
            "line": {
             "colorbar": {
              "outlinewidth": 0,
              "ticks": ""
             }
            },
            "marker": {
             "colorbar": {
              "outlinewidth": 0,
              "ticks": ""
             }
            },
            "type": "scatter3d"
           }
          ],
          "scattercarpet": [
           {
            "marker": {
             "colorbar": {
              "outlinewidth": 0,
              "ticks": ""
             }
            },
            "type": "scattercarpet"
           }
          ],
          "scattergeo": [
           {
            "marker": {
             "colorbar": {
              "outlinewidth": 0,
              "ticks": ""
             }
            },
            "type": "scattergeo"
           }
          ],
          "scattergl": [
           {
            "marker": {
             "colorbar": {
              "outlinewidth": 0,
              "ticks": ""
             }
            },
            "type": "scattergl"
           }
          ],
          "scattermapbox": [
           {
            "marker": {
             "colorbar": {
              "outlinewidth": 0,
              "ticks": ""
             }
            },
            "type": "scattermapbox"
           }
          ],
          "scatterpolar": [
           {
            "marker": {
             "colorbar": {
              "outlinewidth": 0,
              "ticks": ""
             }
            },
            "type": "scatterpolar"
           }
          ],
          "scatterpolargl": [
           {
            "marker": {
             "colorbar": {
              "outlinewidth": 0,
              "ticks": ""
             }
            },
            "type": "scatterpolargl"
           }
          ],
          "scatterternary": [
           {
            "marker": {
             "colorbar": {
              "outlinewidth": 0,
              "ticks": ""
             }
            },
            "type": "scatterternary"
           }
          ],
          "surface": [
           {
            "colorbar": {
             "outlinewidth": 0,
             "ticks": ""
            },
            "colorscale": [
             [
              0,
              "#0d0887"
             ],
             [
              0.1111111111111111,
              "#46039f"
             ],
             [
              0.2222222222222222,
              "#7201a8"
             ],
             [
              0.3333333333333333,
              "#9c179e"
             ],
             [
              0.4444444444444444,
              "#bd3786"
             ],
             [
              0.5555555555555556,
              "#d8576b"
             ],
             [
              0.6666666666666666,
              "#ed7953"
             ],
             [
              0.7777777777777778,
              "#fb9f3a"
             ],
             [
              0.8888888888888888,
              "#fdca26"
             ],
             [
              1,
              "#f0f921"
             ]
            ],
            "type": "surface"
           }
          ],
          "table": [
           {
            "cells": {
             "fill": {
              "color": "#EBF0F8"
             },
             "line": {
              "color": "white"
             }
            },
            "header": {
             "fill": {
              "color": "#C8D4E3"
             },
             "line": {
              "color": "white"
             }
            },
            "type": "table"
           }
          ]
         },
         "layout": {
          "annotationdefaults": {
           "arrowcolor": "#2a3f5f",
           "arrowhead": 0,
           "arrowwidth": 1
          },
          "autotypenumbers": "strict",
          "coloraxis": {
           "colorbar": {
            "outlinewidth": 0,
            "ticks": ""
           }
          },
          "colorscale": {
           "diverging": [
            [
             0,
             "#8e0152"
            ],
            [
             0.1,
             "#c51b7d"
            ],
            [
             0.2,
             "#de77ae"
            ],
            [
             0.3,
             "#f1b6da"
            ],
            [
             0.4,
             "#fde0ef"
            ],
            [
             0.5,
             "#f7f7f7"
            ],
            [
             0.6,
             "#e6f5d0"
            ],
            [
             0.7,
             "#b8e186"
            ],
            [
             0.8,
             "#7fbc41"
            ],
            [
             0.9,
             "#4d9221"
            ],
            [
             1,
             "#276419"
            ]
           ],
           "sequential": [
            [
             0,
             "#0d0887"
            ],
            [
             0.1111111111111111,
             "#46039f"
            ],
            [
             0.2222222222222222,
             "#7201a8"
            ],
            [
             0.3333333333333333,
             "#9c179e"
            ],
            [
             0.4444444444444444,
             "#bd3786"
            ],
            [
             0.5555555555555556,
             "#d8576b"
            ],
            [
             0.6666666666666666,
             "#ed7953"
            ],
            [
             0.7777777777777778,
             "#fb9f3a"
            ],
            [
             0.8888888888888888,
             "#fdca26"
            ],
            [
             1,
             "#f0f921"
            ]
           ],
           "sequentialminus": [
            [
             0,
             "#0d0887"
            ],
            [
             0.1111111111111111,
             "#46039f"
            ],
            [
             0.2222222222222222,
             "#7201a8"
            ],
            [
             0.3333333333333333,
             "#9c179e"
            ],
            [
             0.4444444444444444,
             "#bd3786"
            ],
            [
             0.5555555555555556,
             "#d8576b"
            ],
            [
             0.6666666666666666,
             "#ed7953"
            ],
            [
             0.7777777777777778,
             "#fb9f3a"
            ],
            [
             0.8888888888888888,
             "#fdca26"
            ],
            [
             1,
             "#f0f921"
            ]
           ]
          },
          "colorway": [
           "#636efa",
           "#EF553B",
           "#00cc96",
           "#ab63fa",
           "#FFA15A",
           "#19d3f3",
           "#FF6692",
           "#B6E880",
           "#FF97FF",
           "#FECB52"
          ],
          "font": {
           "color": "#2a3f5f"
          },
          "geo": {
           "bgcolor": "white",
           "lakecolor": "white",
           "landcolor": "white",
           "showlakes": true,
           "showland": true,
           "subunitcolor": "#C8D4E3"
          },
          "hoverlabel": {
           "align": "left"
          },
          "hovermode": "closest",
          "mapbox": {
           "style": "light"
          },
          "paper_bgcolor": "white",
          "plot_bgcolor": "white",
          "polar": {
           "angularaxis": {
            "gridcolor": "#EBF0F8",
            "linecolor": "#EBF0F8",
            "ticks": ""
           },
           "bgcolor": "white",
           "radialaxis": {
            "gridcolor": "#EBF0F8",
            "linecolor": "#EBF0F8",
            "ticks": ""
           }
          },
          "scene": {
           "xaxis": {
            "backgroundcolor": "white",
            "gridcolor": "#DFE8F3",
            "gridwidth": 2,
            "linecolor": "#EBF0F8",
            "showbackground": true,
            "ticks": "",
            "zerolinecolor": "#EBF0F8"
           },
           "yaxis": {
            "backgroundcolor": "white",
            "gridcolor": "#DFE8F3",
            "gridwidth": 2,
            "linecolor": "#EBF0F8",
            "showbackground": true,
            "ticks": "",
            "zerolinecolor": "#EBF0F8"
           },
           "zaxis": {
            "backgroundcolor": "white",
            "gridcolor": "#DFE8F3",
            "gridwidth": 2,
            "linecolor": "#EBF0F8",
            "showbackground": true,
            "ticks": "",
            "zerolinecolor": "#EBF0F8"
           }
          },
          "shapedefaults": {
           "line": {
            "color": "#2a3f5f"
           }
          },
          "ternary": {
           "aaxis": {
            "gridcolor": "#DFE8F3",
            "linecolor": "#A2B1C6",
            "ticks": ""
           },
           "baxis": {
            "gridcolor": "#DFE8F3",
            "linecolor": "#A2B1C6",
            "ticks": ""
           },
           "bgcolor": "white",
           "caxis": {
            "gridcolor": "#DFE8F3",
            "linecolor": "#A2B1C6",
            "ticks": ""
           }
          },
          "title": {
           "x": 0.05
          },
          "xaxis": {
           "automargin": true,
           "gridcolor": "#EBF0F8",
           "linecolor": "#EBF0F8",
           "ticks": "",
           "title": {
            "standoff": 15
           },
           "zerolinecolor": "#EBF0F8",
           "zerolinewidth": 2
          },
          "yaxis": {
           "automargin": true,
           "gridcolor": "#EBF0F8",
           "linecolor": "#EBF0F8",
           "ticks": "",
           "title": {
            "standoff": 15
           },
           "zerolinecolor": "#EBF0F8",
           "zerolinewidth": 2
          }
         }
        },
        "title": {
         "text": "Horizontal Bar Chart of Genres for Apple Appstore",
         "x": 0.5
        },
        "width": 1200,
        "xaxis": {
         "anchor": "y",
         "autorange": true,
         "domain": [
          0,
          1
         ],
         "range": [
          0,
          70997.7894736842
         ],
         "ticktext": [
          "67447.9",
          "56482.03",
          "53078.2",
          "47220.94",
          "27249.89",
          "25972.05",
          "20216.02",
          "20179.09",
          "20128.97",
          "19952.32",
          "19053.89",
          "18924.69",
          "18746.68",
          "15892.72",
          "14010.1",
          "13522.26",
          "10822.96",
          "8978.31",
          "8498.33",
          "6367.8",
          "6266.33",
          "1779.56",
          "459.75"
         ],
         "tickvals": [
          67447.9,
          56482.03,
          53078.2,
          47220.94,
          27249.89,
          25972.05,
          20216.02,
          20179.09,
          20128.97,
          19952.32,
          19053.89,
          18924.69,
          18746.68,
          15892.72,
          14010.1,
          13522.26,
          10822.96,
          8978.31,
          8498.33,
          6367.8,
          6266.33,
          1779.56,
          459.75
         ],
         "title": {
          "text": "Size"
         },
         "type": "linear"
        },
        "yaxis": {
         "anchor": "x",
         "autorange": true,
         "categoryarray": [
          "Medical",
          "Catalogs",
          "Education",
          "Business",
          "Book",
          "Lifestyle",
          "Entertainment",
          "Finance",
          "Utilities",
          "News",
          "Shopping",
          "Games",
          "Productivity",
          "Health & Fitness",
          "Sports",
          "Food & Drink",
          "Travel",
          "Navigation",
          "Photo & Video",
          "Weather",
          "Social Networking",
          "Music",
          "Reference"
         ],
         "categoryorder": "array",
         "domain": [
          0,
          1
         ],
         "range": [
          -0.5,
          22.5
         ],
         "title": {
          "text": "Genre"
         },
         "type": "category"
        }
       }
      },
      "image/png": "[encoded data removed]",
      "text/html": [
       "<div>                            <div id=\"0f20c8af-0a28-4b49-9864-da4d0e3ddcb0\" class=\"plotly-graph-div\" style=\"height:1200px; width:1200px;\"></div>            <script type=\"text/javascript\">                require([\"plotly\"], function(Plotly) {                    window.PLOTLYENV=window.PLOTLYENV || {};                                    if (document.getElementById(\"0f20c8af-0a28-4b49-9864-da4d0e3ddcb0\")) {                    Plotly.newPlot(                        \"0f20c8af-0a28-4b49-9864-da4d0e3ddcb0\",                        [{\"alignmentgroup\":\"True\",\"hovertemplate\":\"Genre=%{y}<br>Size=%{text}<extra></extra>\",\"legendgroup\":\"Reference\",\"marker\":{\"color\":\"#636efa\",\"pattern\":{\"shape\":\"\"}},\"name\":\"Reference\",\"offsetgroup\":\"Reference\",\"orientation\":\"h\",\"showlegend\":true,\"text\":[67447.9],\"textposition\":\"auto\",\"x\":[67447.9],\"xaxis\":\"x\",\"y\":[\"Reference\"],\"yaxis\":\"y\",\"type\":\"bar\"},{\"alignmentgroup\":\"True\",\"hovertemplate\":\"Genre=%{y}<br>Size=%{text}<extra></extra>\",\"legendgroup\":\"Music\",\"marker\":{\"color\":\"#EF553B\",\"pattern\":{\"shape\":\"\"}},\"name\":\"Music\",\"offsetgroup\":\"Music\",\"orientation\":\"h\",\"showlegend\":true,\"text\":[56482.03],\"textposition\":\"auto\",\"x\":[56482.03],\"xaxis\":\"x\",\"y\":[\"Music\"],\"yaxis\":\"y\",\"type\":\"bar\"},{\"alignmentgroup\":\"True\",\"hovertemplate\":\"Genre=%{y}<br>Size=%{text}<extra></extra>\",\"legendgroup\":\"Social Networking\",\"marker\":{\"color\":\"#00cc96\",\"pattern\":{\"shape\":\"\"}},\"name\":\"Social Networking\",\"offsetgroup\":\"Social Networking\",\"orientation\":\"h\",\"showlegend\":true,\"text\":[53078.2],\"textposition\":\"auto\",\"x\":[53078.2],\"xaxis\":\"x\",\"y\":[\"Social Networking\"],\"yaxis\":\"y\",\"type\":\"bar\"},{\"alignmentgroup\":\"True\",\"hovertemplate\":\"Genre=%{y}<br>Size=%{text}<extra></extra>\",\"legendgroup\":\"Weather\",\"marker\":{\"color\":\"#ab63fa\",\"pattern\":{\"shape\":\"\"}},\"name\":\"Weather\",\"offsetgroup\":\"Weather\",\"orientation\":\"h\",\"showlegend\":true,\"text\":[47220.94],\"textposition\":\"auto\",\"x\":[47220.94],\"xaxis\":\"x\",\"y\":[\"Weather\"],\"yaxis\":\"y\",\"type\":\"bar\"},{\"alignmentgroup\":\"True\",\"hovertemplate\":\"Genre=%{y}<br>Size=%{text}<extra></extra>\",\"legendgroup\":\"Photo & Video\",\"marker\":{\"color\":\"#FFA15A\",\"pattern\":{\"shape\":\"\"}},\"name\":\"Photo & Video\",\"offsetgroup\":\"Photo & Video\",\"orientation\":\"h\",\"showlegend\":true,\"text\":[27249.89],\"textposition\":\"auto\",\"x\":[27249.89],\"xaxis\":\"x\",\"y\":[\"Photo & Video\"],\"yaxis\":\"y\",\"type\":\"bar\"},{\"alignmentgroup\":\"True\",\"hovertemplate\":\"Genre=%{y}<br>Size=%{text}<extra></extra>\",\"legendgroup\":\"Navigation\",\"marker\":{\"color\":\"#19d3f3\",\"pattern\":{\"shape\":\"\"}},\"name\":\"Navigation\",\"offsetgroup\":\"Navigation\",\"orientation\":\"h\",\"showlegend\":true,\"text\":[25972.05],\"textposition\":\"auto\",\"x\":[25972.05],\"xaxis\":\"x\",\"y\":[\"Navigation\"],\"yaxis\":\"y\",\"type\":\"bar\"},{\"alignmentgroup\":\"True\",\"hovertemplate\":\"Genre=%{y}<br>Size=%{text}<extra></extra>\",\"legendgroup\":\"Travel\",\"marker\":{\"color\":\"#FF6692\",\"pattern\":{\"shape\":\"\"}},\"name\":\"Travel\",\"offsetgroup\":\"Travel\",\"orientation\":\"h\",\"showlegend\":true,\"text\":[20216.02],\"textposition\":\"auto\",\"x\":[20216.02],\"xaxis\":\"x\",\"y\":[\"Travel\"],\"yaxis\":\"y\",\"type\":\"bar\"},{\"alignmentgroup\":\"True\",\"hovertemplate\":\"Genre=%{y}<br>Size=%{text}<extra></extra>\",\"legendgroup\":\"Food & Drink\",\"marker\":{\"color\":\"#B6E880\",\"pattern\":{\"shape\":\"\"}},\"name\":\"Food & Drink\",\"offsetgroup\":\"Food & Drink\",\"orientation\":\"h\",\"showlegend\":true,\"text\":[20179.09],\"textposition\":\"auto\",\"x\":[20179.09],\"xaxis\":\"x\",\"y\":[\"Food & Drink\"],\"yaxis\":\"y\",\"type\":\"bar\"},{\"alignmentgroup\":\"True\",\"hovertemplate\":\"Genre=%{y}<br>Size=%{text}<extra></extra>\",\"legendgroup\":\"Sports\",\"marker\":{\"color\":\"#FF97FF\",\"pattern\":{\"shape\":\"\"}},\"name\":\"Sports\",\"offsetgroup\":\"Sports\",\"orientation\":\"h\",\"showlegend\":true,\"text\":[20128.97],\"textposition\":\"auto\",\"x\":[20128.97],\"xaxis\":\"x\",\"y\":[\"Sports\"],\"yaxis\":\"y\",\"type\":\"bar\"},{\"alignmentgroup\":\"True\",\"hovertemplate\":\"Genre=%{y}<br>Size=%{text}<extra></extra>\",\"legendgroup\":\"Health & Fitness\",\"marker\":{\"color\":\"#FECB52\",\"pattern\":{\"shape\":\"\"}},\"name\":\"Health & Fitness\",\"offsetgroup\":\"Health & Fitness\",\"orientation\":\"h\",\"showlegend\":true,\"text\":[19952.32],\"textposition\":\"auto\",\"x\":[19952.32],\"xaxis\":\"x\",\"y\":[\"Health & Fitness\"],\"yaxis\":\"y\",\"type\":\"bar\"},{\"alignmentgroup\":\"True\",\"hovertemplate\":\"Genre=%{y}<br>Size=%{text}<extra></extra>\",\"legendgroup\":\"Productivity\",\"marker\":{\"color\":\"#636efa\",\"pattern\":{\"shape\":\"\"}},\"name\":\"Productivity\",\"offsetgroup\":\"Productivity\",\"orientation\":\"h\",\"showlegend\":true,\"text\":[19053.89],\"textposition\":\"auto\",\"x\":[19053.89],\"xaxis\":\"x\",\"y\":[\"Productivity\"],\"yaxis\":\"y\",\"type\":\"bar\"},{\"alignmentgroup\":\"True\",\"hovertemplate\":\"Genre=%{y}<br>Size=%{text}<extra></extra>\",\"legendgroup\":\"Games\",\"marker\":{\"color\":\"#EF553B\",\"pattern\":{\"shape\":\"\"}},\"name\":\"Games\",\"offsetgroup\":\"Games\",\"orientation\":\"h\",\"showlegend\":true,\"text\":[18924.69],\"textposition\":\"auto\",\"x\":[18924.69],\"xaxis\":\"x\",\"y\":[\"Games\"],\"yaxis\":\"y\",\"type\":\"bar\"},{\"alignmentgroup\":\"True\",\"hovertemplate\":\"Genre=%{y}<br>Size=%{text}<extra></extra>\",\"legendgroup\":\"Shopping\",\"marker\":{\"color\":\"#00cc96\",\"pattern\":{\"shape\":\"\"}},\"name\":\"Shopping\",\"offsetgroup\":\"Shopping\",\"orientation\":\"h\",\"showlegend\":true,\"text\":[18746.68],\"textposition\":\"auto\",\"x\":[18746.68],\"xaxis\":\"x\",\"y\":[\"Shopping\"],\"yaxis\":\"y\",\"type\":\"bar\"},{\"alignmentgroup\":\"True\",\"hovertemplate\":\"Genre=%{y}<br>Size=%{text}<extra></extra>\",\"legendgroup\":\"News\",\"marker\":{\"color\":\"#ab63fa\",\"pattern\":{\"shape\":\"\"}},\"name\":\"News\",\"offsetgroup\":\"News\",\"orientation\":\"h\",\"showlegend\":true,\"text\":[15892.72],\"textposition\":\"auto\",\"x\":[15892.72],\"xaxis\":\"x\",\"y\":[\"News\"],\"yaxis\":\"y\",\"type\":\"bar\"},{\"alignmentgroup\":\"True\",\"hovertemplate\":\"Genre=%{y}<br>Size=%{text}<extra></extra>\",\"legendgroup\":\"Utilities\",\"marker\":{\"color\":\"#FFA15A\",\"pattern\":{\"shape\":\"\"}},\"name\":\"Utilities\",\"offsetgroup\":\"Utilities\",\"orientation\":\"h\",\"showlegend\":true,\"text\":[14010.1],\"textposition\":\"auto\",\"x\":[14010.1],\"xaxis\":\"x\",\"y\":[\"Utilities\"],\"yaxis\":\"y\",\"type\":\"bar\"},{\"alignmentgroup\":\"True\",\"hovertemplate\":\"Genre=%{y}<br>Size=%{text}<extra></extra>\",\"legendgroup\":\"Finance\",\"marker\":{\"color\":\"#19d3f3\",\"pattern\":{\"shape\":\"\"}},\"name\":\"Finance\",\"offsetgroup\":\"Finance\",\"orientation\":\"h\",\"showlegend\":true,\"text\":[13522.26],\"textposition\":\"auto\",\"x\":[13522.26],\"xaxis\":\"x\",\"y\":[\"Finance\"],\"yaxis\":\"y\",\"type\":\"bar\"},{\"alignmentgroup\":\"True\",\"hovertemplate\":\"Genre=%{y}<br>Size=%{text}<extra></extra>\",\"legendgroup\":\"Entertainment\",\"marker\":{\"color\":\"#FF6692\",\"pattern\":{\"shape\":\"\"}},\"name\":\"Entertainment\",\"offsetgroup\":\"Entertainment\",\"orientation\":\"h\",\"showlegend\":true,\"text\":[10822.96],\"textposition\":\"auto\",\"x\":[10822.96],\"xaxis\":\"x\",\"y\":[\"Entertainment\"],\"yaxis\":\"y\",\"type\":\"bar\"},{\"alignmentgroup\":\"True\",\"hovertemplate\":\"Genre=%{y}<br>Size=%{text}<extra></extra>\",\"legendgroup\":\"Lifestyle\",\"marker\":{\"color\":\"#B6E880\",\"pattern\":{\"shape\":\"\"}},\"name\":\"Lifestyle\",\"offsetgroup\":\"Lifestyle\",\"orientation\":\"h\",\"showlegend\":true,\"text\":[8978.31],\"textposition\":\"auto\",\"x\":[8978.31],\"xaxis\":\"x\",\"y\":[\"Lifestyle\"],\"yaxis\":\"y\",\"type\":\"bar\"},{\"alignmentgroup\":\"True\",\"hovertemplate\":\"Genre=%{y}<br>Size=%{text}<extra></extra>\",\"legendgroup\":\"Book\",\"marker\":{\"color\":\"#FF97FF\",\"pattern\":{\"shape\":\"\"}},\"name\":\"Book\",\"offsetgroup\":\"Book\",\"orientation\":\"h\",\"showlegend\":true,\"text\":[8498.33],\"textposition\":\"auto\",\"x\":[8498.33],\"xaxis\":\"x\",\"y\":[\"Book\"],\"yaxis\":\"y\",\"type\":\"bar\"},{\"alignmentgroup\":\"True\",\"hovertemplate\":\"Genre=%{y}<br>Size=%{text}<extra></extra>\",\"legendgroup\":\"Business\",\"marker\":{\"color\":\"#FECB52\",\"pattern\":{\"shape\":\"\"}},\"name\":\"Business\",\"offsetgroup\":\"Business\",\"orientation\":\"h\",\"showlegend\":true,\"text\":[6367.8],\"textposition\":\"auto\",\"x\":[6367.8],\"xaxis\":\"x\",\"y\":[\"Business\"],\"yaxis\":\"y\",\"type\":\"bar\"},{\"alignmentgroup\":\"True\",\"hovertemplate\":\"Genre=%{y}<br>Size=%{text}<extra></extra>\",\"legendgroup\":\"Education\",\"marker\":{\"color\":\"#636efa\",\"pattern\":{\"shape\":\"\"}},\"name\":\"Education\",\"offsetgroup\":\"Education\",\"orientation\":\"h\",\"showlegend\":true,\"text\":[6266.33],\"textposition\":\"auto\",\"x\":[6266.33],\"xaxis\":\"x\",\"y\":[\"Education\"],\"yaxis\":\"y\",\"type\":\"bar\"},{\"alignmentgroup\":\"True\",\"hovertemplate\":\"Genre=%{y}<br>Size=%{text}<extra></extra>\",\"legendgroup\":\"Catalogs\",\"marker\":{\"color\":\"#EF553B\",\"pattern\":{\"shape\":\"\"}},\"name\":\"Catalogs\",\"offsetgroup\":\"Catalogs\",\"orientation\":\"h\",\"showlegend\":true,\"text\":[1779.56],\"textposition\":\"auto\",\"x\":[1779.56],\"xaxis\":\"x\",\"y\":[\"Catalogs\"],\"yaxis\":\"y\",\"type\":\"bar\"},{\"alignmentgroup\":\"True\",\"hovertemplate\":\"Genre=%{y}<br>Size=%{text}<extra></extra>\",\"legendgroup\":\"Medical\",\"marker\":{\"color\":\"#00cc96\",\"pattern\":{\"shape\":\"\"}},\"name\":\"Medical\",\"offsetgroup\":\"Medical\",\"orientation\":\"h\",\"showlegend\":true,\"text\":[459.75],\"textposition\":\"auto\",\"x\":[459.75],\"xaxis\":\"x\",\"y\":[\"Medical\"],\"yaxis\":\"y\",\"type\":\"bar\"}],                        {\"template\":{\"data\":{\"barpolar\":[{\"marker\":{\"line\":{\"color\":\"white\",\"width\":0.5},\"pattern\":{\"fillmode\":\"overlay\",\"size\":10,\"solidity\":0.2}},\"type\":\"barpolar\"}],\"bar\":[{\"error_x\":{\"color\":\"#2a3f5f\"},\"error_y\":{\"color\":\"#2a3f5f\"},\"marker\":{\"line\":{\"color\":\"white\",\"width\":0.5},\"pattern\":{\"fillmode\":\"overlay\",\"size\":10,\"solidity\":0.2}},\"type\":\"bar\"}],\"carpet\":[{\"aaxis\":{\"endlinecolor\":\"#2a3f5f\",\"gridcolor\":\"#C8D4E3\",\"linecolor\":\"#C8D4E3\",\"minorgridcolor\":\"#C8D4E3\",\"startlinecolor\":\"#2a3f5f\"},\"baxis\":{\"endlinecolor\":\"#2a3f5f\",\"gridcolor\":\"#C8D4E3\",\"linecolor\":\"#C8D4E3\",\"minorgridcolor\":\"#C8D4E3\",\"startlinecolor\":\"#2a3f5f\"},\"type\":\"carpet\"}],\"choropleth\":[{\"colorbar\":{\"outlinewidth\":0,\"ticks\":\"\"},\"type\":\"choropleth\"}],\"contourcarpet\":[{\"colorbar\":{\"outlinewidth\":0,\"ticks\":\"\"},\"type\":\"contourcarpet\"}],\"contour\":[{\"colorbar\":{\"outlinewidth\":0,\"ticks\":\"\"},\"colorscale\":[[0.0,\"#0d0887\"],[0.1111111111111111,\"#46039f\"],[0.2222222222222222,\"#7201a8\"],[0.3333333333333333,\"#9c179e\"],[0.4444444444444444,\"#bd3786\"],[0.5555555555555556,\"#d8576b\"],[0.6666666666666666,\"#ed7953\"],[0.7777777777777778,\"#fb9f3a\"],[0.8888888888888888,\"#fdca26\"],[1.0,\"#f0f921\"]],\"type\":\"contour\"}],\"heatmapgl\":[{\"colorbar\":{\"outlinewidth\":0,\"ticks\":\"\"},\"colorscale\":[[0.0,\"#0d0887\"],[0.1111111111111111,\"#46039f\"],[0.2222222222222222,\"#7201a8\"],[0.3333333333333333,\"#9c179e\"],[0.4444444444444444,\"#bd3786\"],[0.5555555555555556,\"#d8576b\"],[0.6666666666666666,\"#ed7953\"],[0.7777777777777778,\"#fb9f3a\"],[0.8888888888888888,\"#fdca26\"],[1.0,\"#f0f921\"]],\"type\":\"heatmapgl\"}],\"heatmap\":[{\"colorbar\":{\"outlinewidth\":0,\"ticks\":\"\"},\"colorscale\":[[0.0,\"#0d0887\"],[0.1111111111111111,\"#46039f\"],[0.2222222222222222,\"#7201a8\"],[0.3333333333333333,\"#9c179e\"],[0.4444444444444444,\"#bd3786\"],[0.5555555555555556,\"#d8576b\"],[0.6666666666666666,\"#ed7953\"],[0.7777777777777778,\"#fb9f3a\"],[0.8888888888888888,\"#fdca26\"],[1.0,\"#f0f921\"]],\"type\":\"heatmap\"}],\"histogram2dcontour\":[{\"colorbar\":{\"outlinewidth\":0,\"ticks\":\"\"},\"colorscale\":[[0.0,\"#0d0887\"],[0.1111111111111111,\"#46039f\"],[0.2222222222222222,\"#7201a8\"],[0.3333333333333333,\"#9c179e\"],[0.4444444444444444,\"#bd3786\"],[0.5555555555555556,\"#d8576b\"],[0.6666666666666666,\"#ed7953\"],[0.7777777777777778,\"#fb9f3a\"],[0.8888888888888888,\"#fdca26\"],[1.0,\"#f0f921\"]],\"type\":\"histogram2dcontour\"}],\"histogram2d\":[{\"colorbar\":{\"outlinewidth\":0,\"ticks\":\"\"},\"colorscale\":[[0.0,\"#0d0887\"],[0.1111111111111111,\"#46039f\"],[0.2222222222222222,\"#7201a8\"],[0.3333333333333333,\"#9c179e\"],[0.4444444444444444,\"#bd3786\"],[0.5555555555555556,\"#d8576b\"],[0.6666666666666666,\"#ed7953\"],[0.7777777777777778,\"#fb9f3a\"],[0.8888888888888888,\"#fdca26\"],[1.0,\"#f0f921\"]],\"type\":\"histogram2d\"}],\"histogram\":[{\"marker\":{\"pattern\":{\"fillmode\":\"overlay\",\"size\":10,\"solidity\":0.2}},\"type\":\"histogram\"}],\"mesh3d\":[{\"colorbar\":{\"outlinewidth\":0,\"ticks\":\"\"},\"type\":\"mesh3d\"}],\"parcoords\":[{\"line\":{\"colorbar\":{\"outlinewidth\":0,\"ticks\":\"\"}},\"type\":\"parcoords\"}],\"pie\":[{\"automargin\":true,\"type\":\"pie\"}],\"scatter3d\":[{\"line\":{\"colorbar\":{\"outlinewidth\":0,\"ticks\":\"\"}},\"marker\":{\"colorbar\":{\"outlinewidth\":0,\"ticks\":\"\"}},\"type\":\"scatter3d\"}],\"scattercarpet\":[{\"marker\":{\"colorbar\":{\"outlinewidth\":0,\"ticks\":\"\"}},\"type\":\"scattercarpet\"}],\"scattergeo\":[{\"marker\":{\"colorbar\":{\"outlinewidth\":0,\"ticks\":\"\"}},\"type\":\"scattergeo\"}],\"scattergl\":[{\"marker\":{\"colorbar\":{\"outlinewidth\":0,\"ticks\":\"\"}},\"type\":\"scattergl\"}],\"scattermapbox\":[{\"marker\":{\"colorbar\":{\"outlinewidth\":0,\"ticks\":\"\"}},\"type\":\"scattermapbox\"}],\"scatterpolargl\":[{\"marker\":{\"colorbar\":{\"outlinewidth\":0,\"ticks\":\"\"}},\"type\":\"scatterpolargl\"}],\"scatterpolar\":[{\"marker\":{\"colorbar\":{\"outlinewidth\":0,\"ticks\":\"\"}},\"type\":\"scatterpolar\"}],\"scatter\":[{\"fillpattern\":{\"fillmode\":\"overlay\",\"size\":10,\"solidity\":0.2},\"type\":\"scatter\"}],\"scatterternary\":[{\"marker\":{\"colorbar\":{\"outlinewidth\":0,\"ticks\":\"\"}},\"type\":\"scatterternary\"}],\"surface\":[{\"colorbar\":{\"outlinewidth\":0,\"ticks\":\"\"},\"colorscale\":[[0.0,\"#0d0887\"],[0.1111111111111111,\"#46039f\"],[0.2222222222222222,\"#7201a8\"],[0.3333333333333333,\"#9c179e\"],[0.4444444444444444,\"#bd3786\"],[0.5555555555555556,\"#d8576b\"],[0.6666666666666666,\"#ed7953\"],[0.7777777777777778,\"#fb9f3a\"],[0.8888888888888888,\"#fdca26\"],[1.0,\"#f0f921\"]],\"type\":\"surface\"}],\"table\":[{\"cells\":{\"fill\":{\"color\":\"#EBF0F8\"},\"line\":{\"color\":\"white\"}},\"header\":{\"fill\":{\"color\":\"#C8D4E3\"},\"line\":{\"color\":\"white\"}},\"type\":\"table\"}]},\"layout\":{\"annotationdefaults\":{\"arrowcolor\":\"#2a3f5f\",\"arrowhead\":0,\"arrowwidth\":1},\"autotypenumbers\":\"strict\",\"coloraxis\":{\"colorbar\":{\"outlinewidth\":0,\"ticks\":\"\"}},\"colorscale\":{\"diverging\":[[0,\"#8e0152\"],[0.1,\"#c51b7d\"],[0.2,\"#de77ae\"],[0.3,\"#f1b6da\"],[0.4,\"#fde0ef\"],[0.5,\"#f7f7f7\"],[0.6,\"#e6f5d0\"],[0.7,\"#b8e186\"],[0.8,\"#7fbc41\"],[0.9,\"#4d9221\"],[1,\"#276419\"]],\"sequential\":[[0.0,\"#0d0887\"],[0.1111111111111111,\"#46039f\"],[0.2222222222222222,\"#7201a8\"],[0.3333333333333333,\"#9c179e\"],[0.4444444444444444,\"#bd3786\"],[0.5555555555555556,\"#d8576b\"],[0.6666666666666666,\"#ed7953\"],[0.7777777777777778,\"#fb9f3a\"],[0.8888888888888888,\"#fdca26\"],[1.0,\"#f0f921\"]],\"sequentialminus\":[[0.0,\"#0d0887\"],[0.1111111111111111,\"#46039f\"],[0.2222222222222222,\"#7201a8\"],[0.3333333333333333,\"#9c179e\"],[0.4444444444444444,\"#bd3786\"],[0.5555555555555556,\"#d8576b\"],[0.6666666666666666,\"#ed7953\"],[0.7777777777777778,\"#fb9f3a\"],[0.8888888888888888,\"#fdca26\"],[1.0,\"#f0f921\"]]},\"colorway\":[\"#636efa\",\"#EF553B\",\"#00cc96\",\"#ab63fa\",\"#FFA15A\",\"#19d3f3\",\"#FF6692\",\"#B6E880\",\"#FF97FF\",\"#FECB52\"],\"font\":{\"color\":\"#2a3f5f\"},\"geo\":{\"bgcolor\":\"white\",\"lakecolor\":\"white\",\"landcolor\":\"white\",\"showlakes\":true,\"showland\":true,\"subunitcolor\":\"#C8D4E3\"},\"hoverlabel\":{\"align\":\"left\"},\"hovermode\":\"closest\",\"mapbox\":{\"style\":\"light\"},\"paper_bgcolor\":\"white\",\"plot_bgcolor\":\"white\",\"polar\":{\"angularaxis\":{\"gridcolor\":\"#EBF0F8\",\"linecolor\":\"#EBF0F8\",\"ticks\":\"\"},\"bgcolor\":\"white\",\"radialaxis\":{\"gridcolor\":\"#EBF0F8\",\"linecolor\":\"#EBF0F8\",\"ticks\":\"\"}},\"scene\":{\"xaxis\":{\"backgroundcolor\":\"white\",\"gridcolor\":\"#DFE8F3\",\"gridwidth\":2,\"linecolor\":\"#EBF0F8\",\"showbackground\":true,\"ticks\":\"\",\"zerolinecolor\":\"#EBF0F8\"},\"yaxis\":{\"backgroundcolor\":\"white\",\"gridcolor\":\"#DFE8F3\",\"gridwidth\":2,\"linecolor\":\"#EBF0F8\",\"showbackground\":true,\"ticks\":\"\",\"zerolinecolor\":\"#EBF0F8\"},\"zaxis\":{\"backgroundcolor\":\"white\",\"gridcolor\":\"#DFE8F3\",\"gridwidth\":2,\"linecolor\":\"#EBF0F8\",\"showbackground\":true,\"ticks\":\"\",\"zerolinecolor\":\"#EBF0F8\"}},\"shapedefaults\":{\"line\":{\"color\":\"#2a3f5f\"}},\"ternary\":{\"aaxis\":{\"gridcolor\":\"#DFE8F3\",\"linecolor\":\"#A2B1C6\",\"ticks\":\"\"},\"baxis\":{\"gridcolor\":\"#DFE8F3\",\"linecolor\":\"#A2B1C6\",\"ticks\":\"\"},\"bgcolor\":\"white\",\"caxis\":{\"gridcolor\":\"#DFE8F3\",\"linecolor\":\"#A2B1C6\",\"ticks\":\"\"}},\"title\":{\"x\":0.05},\"xaxis\":{\"automargin\":true,\"gridcolor\":\"#EBF0F8\",\"linecolor\":\"#EBF0F8\",\"ticks\":\"\",\"title\":{\"standoff\":15},\"zerolinecolor\":\"#EBF0F8\",\"zerolinewidth\":2},\"yaxis\":{\"automargin\":true,\"gridcolor\":\"#EBF0F8\",\"linecolor\":\"#EBF0F8\",\"ticks\":\"\",\"title\":{\"standoff\":15},\"zerolinecolor\":\"#EBF0F8\",\"zerolinewidth\":2}}},\"xaxis\":{\"anchor\":\"y\",\"domain\":[0.0,1.0],\"title\":{\"text\":\"Size\"},\"tickvals\":[67447.9,56482.03,53078.2,47220.94,27249.89,25972.05,20216.02,20179.09,20128.97,19952.32,19053.89,18924.69,18746.68,15892.72,14010.1,13522.26,10822.96,8978.31,8498.33,6367.8,6266.33,1779.56,459.75],\"ticktext\":[\"67447.9\",\"56482.03\",\"53078.2\",\"47220.94\",\"27249.89\",\"25972.05\",\"20216.02\",\"20179.09\",\"20128.97\",\"19952.32\",\"19053.89\",\"18924.69\",\"18746.68\",\"15892.72\",\"14010.1\",\"13522.26\",\"10822.96\",\"8978.31\",\"8498.33\",\"6367.8\",\"6266.33\",\"1779.56\",\"459.75\"]},\"yaxis\":{\"anchor\":\"x\",\"domain\":[0.0,1.0],\"title\":{\"text\":\"Genre\"},\"categoryorder\":\"array\",\"categoryarray\":[\"Medical\",\"Catalogs\",\"Education\",\"Business\",\"Book\",\"Lifestyle\",\"Entertainment\",\"Finance\",\"Utilities\",\"News\",\"Shopping\",\"Games\",\"Productivity\",\"Health & Fitness\",\"Sports\",\"Food & Drink\",\"Travel\",\"Navigation\",\"Photo & Video\",\"Weather\",\"Social Networking\",\"Music\",\"Reference\"]},\"legend\":{\"title\":{\"text\":\"Genre\"},\"tracegroupgap\":0},\"title\":{\"text\":\"Horizontal Bar Chart of Genres for Apple Appstore\",\"x\":0.5},\"barmode\":\"relative\",\"height\":1200,\"width\":1200},                        {\"responsive\": true}                    ).then(function(){\n",
       "                            \n",
       "var gd = document.getElementById('0f20c8af-0a28-4b49-9864-da4d0e3ddcb0');\n",
       "var x = new MutationObserver(function (mutations, observer) {{\n",
       "        var display = window.getComputedStyle(gd).display;\n",
       "        if (!display || display === 'none') {{\n",
       "            console.log([gd, 'removed!']);\n",
       "            Plotly.purge(gd);\n",
       "            observer.disconnect();\n",
       "        }}\n",
       "}});\n",
       "\n",
       "// Listen for the removal of the full notebook cells\n",
       "var notebookContainer = gd.closest('#notebook-container');\n",
       "if (notebookContainer) {{\n",
       "    x.observe(notebookContainer, {childList: true});\n",
       "}}\n",
       "\n",
       "// Listen for the clearing of the current output cell\n",
       "var outputEl = gd.closest('.output');\n",
       "if (outputEl) {{\n",
       "    x.observe(outputEl, {childList: true});\n",
       "}}\n",
       "\n",
       "                        })                };                });            </script>        </div>"
      ]
     },
     "metadata": {},
     "output_type": "display_data"
    }
   ],
   "source": [
    "create_treemap(google_popular_genre,\"Google Playstore\",\"/home/saadahmad/Desktop/Appstore_treemap\") \n",
    "create_treemap(apple_popular_genre,\"Apple Appstore\",\"/home/saadahmad/Desktop/Playstore_treemap\")\n",
    "horizontal_bar_chart(google_popular_genre,\"Google Playstore\",\"/home/saadahmad/Desktop/Appstore_Barchart\")\n",
    "horizontal_bar_chart(apple_popular_genre,\"Apple Appstore\",\"/home/saadahmad/Desktop/Playstore_Barchart\")"
   ]
  },
  {
   "cell_type": "code",
   "execution_count": null,
   "id": "46228c04-3f5b-405c-aa47-ab74a4c78f3f",
   "metadata": {},
   "outputs": [],
   "source": []
  }
 ],
 "metadata": {
  "kernelspec": {
   "display_name": "Python 3 (ipykernel)",
   "language": "python",
   "name": "python3"
  },
  "language_info": {
   "codemirror_mode": {
    "name": "ipython",
    "version": 3
   },
   "file_extension": ".py",
   "mimetype": "text/x-python",
   "name": "python",
   "nbconvert_exporter": "python",
   "pygments_lexer": "ipython3",
   "version": "3.11.5"
  }
 },
 "nbformat": 4,
 "nbformat_minor": 5
}
